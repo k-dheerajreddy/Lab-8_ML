{
 "cells": [
  {
   "cell_type": "code",
   "execution_count": null,
   "id": "3538fb0b",
   "metadata": {},
   "outputs": [],
   "source": [
    "K Dheeraj Reddy;BL.EN.U4CSE21076;CSE - B;SEM- V."
   ]
  },
  {
   "cell_type": "code",
   "execution_count": 1,
   "id": "1b2219a9",
   "metadata": {},
   "outputs": [
    {
     "name": "stdout",
     "output_type": "stream",
     "text": [
      "Prior Probability for class 'no': 35.71%\n",
      "Prior Probability for class 'yes': 64.29%\n"
     ]
    }
   ],
   "source": [
    "#A1\n",
    "data = [\n",
    "    (\"<=30\", \"high\", \"no\", \"fair\", \"no\"),\n",
    "    (\"<=30\", \"high\", \"no\", \"excellent\", \"no\"),\n",
    "    (\"31...40\", \"high\", \"no\", \"fair\", \"yes\"),\n",
    "    (\">40\", \"medium\", \"no\", \"fair\", \"yes\"),\n",
    "    (\">40\", \"low\", \"yes\", \"fair\", \"yes\"),\n",
    "    (\">40\", \"low\", \"yes\", \"excellent\", \"no\"),\n",
    "    (\"31...40\", \"low\", \"yes\", \"excellent\", \"yes\"),\n",
    "    (\"<=30\", \"medium\", \"no\", \"fair\", \"no\"),\n",
    "    (\"<=30\", \"low\", \"yes\", \"fair\", \"yes\"),\n",
    "    (\">40\", \"medium\", \"yes\", \"fair\", \"yes\"),\n",
    "    (\"<=30\", \"medium\", \"yes\", \"excellent\", \"yes\"),\n",
    "    (\"31...40\", \"medium\", \"no\", \"excellent\", \"yes\"),\n",
    "    (\"31...40\", \"high\", \"yes\", \"fair\", \"yes\"),\n",
    "    (\">40\", \"medium\", \"no\", \"excellent\", \"no\"),\n",
    "]\n",
    "\n",
    "class_counts = {}\n",
    "for _, _, _, _, label in data:\n",
    "    if label in class_counts:\n",
    "        class_counts[label] += 1\n",
    "    else:\n",
    "        class_counts[label] = 1\n",
    "\n",
    "total_samples = len(data)\n",
    "prior_probabilities = {label: count / total_samples for label, count in class_counts.items()}\n",
    "\n",
    "for label, prior_prob in prior_probabilities.items():\n",
    "    print(f\"Prior Probability for class '{label}': {prior_prob:.2%}\")"
   ]
  },
  {
   "cell_type": "code",
   "execution_count": 2,
   "id": "7c085b0e",
   "metadata": {},
   "outputs": [
    {
     "name": "stdout",
     "output_type": "stream",
     "text": [
      "\n",
      "Class-Conditional Densities for 'Age':\n",
      "Class '0': Mean = 1.4, Standard Deviation = 0.5477225575051661\n",
      "PDF for 'Age' in class '0': [0.0985735675359305, 0.44177608025001075, 0.7283656203947195, 0.44177608025001075, 0.0985735675359305]\n",
      "Class '1': Mean = 0.8888888888888888, Standard Deviation = 0.927960727138337\n",
      "PDF for 'Age' in class '1': [0.05818238308391179, 0.26075535035338976, 0.42991289257649784, 0.26075535035338976, 0.05818238308391179]\n",
      "\n",
      "Class-Conditional Densities for 'Income':\n",
      "Class '0': Mean = 1.0, Standard Deviation = 1.0\n",
      "PDF for 'Income' in class '0': [0.05399096651318806, 0.24197072451914337, 0.3989422804014327, 0.24197072451914337, 0.05399096651318806]\n",
      "Class '1': Mean = 1.2222222222222223, Standard Deviation = 0.8333333333333334\n",
      "PDF for 'Income' in class '1': [0.06478915981582567, 0.290364869422972, 0.4787307364817192, 0.290364869422972, 0.0647891598158256]\n",
      "\n",
      "Class-Conditional Densities for 'Student':\n",
      "Class '0': Mean = 0.2, Standard Deviation = 0.44721359549995804\n",
      "PDF for 'Student' in class '0': [0.12072747129440332, 0.5410629885896796, 0.8920620580763854, 0.5410629885896796, 0.12072747129440316]\n",
      "Class '1': Mean = 0.6666666666666666, Standard Deviation = 0.5\n",
      "PDF for 'Student' in class '1': [0.10798193302637613, 0.48394144903828673, 0.7978845608028654, 0.48394144903828684, 0.10798193302637617]\n",
      "\n",
      "Class-Conditional Densities for 'CreditRating':\n",
      "Class '0': Mean = 0.4, Standard Deviation = 0.5477225575051662\n",
      "PDF for 'CreditRating' in class '0': [0.09857356753593048, 0.44177608025001064, 0.7283656203947193, 0.44177608025001064, 0.09857356753593037]\n",
      "Class '1': Mean = 0.6666666666666666, Standard Deviation = 0.5\n",
      "PDF for 'CreditRating' in class '1': [0.10798193302637613, 0.48394144903828673, 0.7978845608028654, 0.48394144903828684, 0.10798193302637617]\n"
     ]
    }
   ],
   "source": [
    "#A2\n",
    "from scipy.stats import norm\n",
    "import pandas as pd\n",
    "from sklearn.preprocessing import LabelEncoder\n",
    "\n",
    "data = [\n",
    "    (\"<=30\", \"high\", \"no\", \"fair\", \"no\"),\n",
    "    (\"<=30\", \"high\", \"no\", \"excellent\", \"no\"),\n",
    "    (\"31...40\", \"high\", \"no\", \"fair\", \"yes\"),\n",
    "    (\">40\", \"medium\", \"no\", \"fair\", \"yes\"),\n",
    "    (\">40\", \"low\", \"yes\", \"fair\", \"yes\"),\n",
    "    (\">40\", \"low\", \"yes\", \"excellent\", \"no\"),\n",
    "    (\"31...40\", \"low\", \"yes\", \"excellent\", \"yes\"),\n",
    "    (\"<=30\", \"medium\", \"no\", \"fair\", \"no\"),\n",
    "    (\"<=30\", \"low\", \"yes\", \"fair\", \"yes\"),\n",
    "    (\">40\", \"medium\", \"yes\", \"fair\", \"yes\"),\n",
    "    (\"<=30\", \"medium\", \"yes\", \"excellent\", \"yes\"),\n",
    "    (\"31...40\", \"medium\", \"no\", \"excellent\", \"yes\"),\n",
    "    (\"31...40\", \"high\", \"yes\", \"fair\", \"yes\"),\n",
    "    (\">40\", \"medium\", \"no\", \"excellent\", \"no\"),\n",
    "]\n",
    "\n",
    "df = pd.DataFrame(data, columns=[\"Age\", \"Income\", \"Student\", \"CreditRating\", \"BuysComputer\"])\n",
    "\n",
    "le = LabelEncoder()\n",
    "df_encoded = df.apply(le.fit_transform)\n",
    "\n",
    "class_0_data = df_encoded[df_encoded[\"BuysComputer\"] == 0]\n",
    "class_1_data = df_encoded[df_encoded[\"BuysComputer\"] == 1]\n",
    "\n",
    "for feature in df_encoded.columns[:-1]:  \n",
    "    print(f\"\\nClass-Conditional Densities for '{feature}':\")\n",
    "    \n",
    "    for label, class_data in [(0, class_0_data), (1, class_1_data)]:\n",
    "        \n",
    "        feature_data = class_data[feature]\n",
    "        mean = feature_data.mean()\n",
    "        std_dev = feature_data.std()\n",
    "        \n",
    "        print(f\"Class '{label}': Mean = {mean}, Standard Deviation = {std_dev}\")\n",
    "        \n",
    "        if std_dev == 0:\n",
    "            print(f\"Warning: Class '{label}' has zero standard deviation for '{feature}'.\")\n",
    "        \n",
    "        dist = norm(loc=mean, scale=std_dev)\n",
    "        \n",
    "        values = [mean - 2 * std_dev, mean - std_dev, mean, mean + std_dev, mean + 2 * std_dev]\n",
    "        densities = [dist.pdf(value) for value in values]\n",
    "        print(f\"PDF for '{feature}' in class '{label}': {densities}\")\n"
   ]
  },
  {
   "cell_type": "code",
   "execution_count": 3,
   "id": "7ba02717",
   "metadata": {},
   "outputs": [
    {
     "name": "stdout",
     "output_type": "stream",
     "text": [
      "Chi-squared value: 25.200000000000003\n",
      "P-value: 0.3949583040945451\n",
      "\n",
      "Significance level: 0.05\n",
      "Degrees of freedom: 24\n",
      "P-value: 0.3949583040945451\n",
      "Fail to reject the null hypothesis: There is no significant association between the variables.\n"
     ]
    }
   ],
   "source": [
    "#A3\n",
    "import pandas as pd\n",
    "from scipy.stats import chi2_contingency\n",
    "\n",
    "data = [\n",
    "    (\"<=30\", \"high\", \"no\", \"fair\", \"no\"),\n",
    "    (\"<=30\", \"high\", \"no\", \"excellent\", \"no\"),\n",
    "    (\"31...40\", \"high\", \"no\", \"fair\", \"yes\"),\n",
    "    (\">40\", \"medium\", \"no\", \"fair\", \"yes\"),\n",
    "    (\">40\", \"low\", \"yes\", \"fair\", \"yes\"),\n",
    "    (\">40\", \"low\", \"yes\", \"excellent\", \"no\"),\n",
    "    (\"31...40\", \"low\", \"yes\", \"excellent\", \"yes\"),\n",
    "    (\"<=30\", \"medium\", \"no\", \"fair\", \"no\"),\n",
    "    (\"<=30\", \"low\", \"yes\", \"fair\", \"yes\"),\n",
    "    (\">40\", \"medium\", \"yes\", \"fair\", \"yes\"),\n",
    "    (\"<=30\", \"medium\", \"yes\", \"excellent\", \"yes\"),\n",
    "    (\"31...40\", \"medium\", \"no\", \"excellent\", \"yes\"),\n",
    "    (\"31...40\", \"high\", \"yes\", \"fair\", \"yes\"),\n",
    "    (\">40\", \"medium\", \"no\", \"excellent\", \"no\"),\n",
    "]\n",
    "\n",
    "df = pd.DataFrame(data, columns=[\"Age\", \"Income\", \"Student\", \"CreditRating\", \"BuysComputer\"])\n",
    "\n",
    "contingency_table = pd.crosstab(index=df[\"Age\"], columns=[df[\"Income\"], df[\"Student\"], df[\"CreditRating\"], df[\"BuysComputer\"]])\n",
    "\n",
    "chi2, p, _, _ = chi2_contingency(contingency_table)\n",
    "\n",
    "print(f\"Chi-squared value: {chi2}\")\n",
    "print(f\"P-value: {p}\")\n",
    "\n",
    "alpha = 0.05\n",
    "print(\"\\nSignificance level:\", alpha)\n",
    "print(\"Degrees of freedom:\", chi2_contingency(contingency_table)[2])\n",
    "print(f\"P-value: {p}\")\n",
    "\n",
    "if p < alpha:\n",
    "    print(\"Reject the null hypothesis: There is a significant association between the variables.\")\n",
    "else:\n",
    "    print(\"Fail to reject the null hypothesis: There is no significant association between the variables.\")"
   ]
  },
  {
   "cell_type": "code",
   "execution_count": 4,
   "id": "16e2c1c8",
   "metadata": {},
   "outputs": [
    {
     "name": "stdout",
     "output_type": "stream",
     "text": [
      "Accuracy: 0.6666666666666666\n"
     ]
    }
   ],
   "source": [
    "#A4\n",
    "from sklearn.naive_bayes import GaussianNB\n",
    "from sklearn.preprocessing import LabelEncoder\n",
    "from sklearn.model_selection import train_test_split\n",
    "from sklearn.metrics import accuracy_score\n",
    "\n",
    "data = [\n",
    "    (\"<=30\", \"high\", \"no\", \"fair\", \"no\"),\n",
    "    (\"<=30\", \"high\", \"no\", \"excellent\", \"no\"),\n",
    "    (\"31...40\", \"high\", \"no\", \"fair\", \"yes\"),\n",
    "    (\">40\", \"medium\", \"no\", \"fair\", \"yes\"),\n",
    "    (\">40\", \"low\", \"yes\", \"fair\", \"yes\"),\n",
    "    (\">40\", \"low\", \"yes\", \"excellent\", \"no\"),\n",
    "    (\"31...40\", \"low\", \"yes\", \"excellent\", \"yes\"),\n",
    "    (\"<=30\", \"medium\", \"no\", \"fair\", \"no\"),\n",
    "    (\"<=30\", \"low\", \"yes\", \"fair\", \"yes\"),\n",
    "    (\">40\", \"medium\", \"yes\", \"fair\", \"yes\"),\n",
    "    (\"<=30\", \"medium\", \"yes\", \"excellent\", \"yes\"),\n",
    "    (\"31...40\", \"medium\", \"no\", \"excellent\", \"yes\"),\n",
    "    (\"31...40\", \"high\", \"yes\", \"fair\", \"yes\"),\n",
    "    (\">40\", \"medium\", \"no\", \"excellent\", \"no\"),\n",
    "]\n",
    "\n",
    "import pandas as pd\n",
    "df = pd.DataFrame(data, columns=[\"Age\", \"Income\", \"Student\", \"CreditRating\", \"BuysComputer\"])\n",
    "\n",
    "le = LabelEncoder()\n",
    "df_encoded = df.apply(le.fit_transform)\n",
    "\n",
    "X = df_encoded.drop(\"BuysComputer\", axis=1)\n",
    "y = df_encoded[\"BuysComputer\"]\n",
    "\n",
    "Tr_X, Te_X, Tr_y, Te_y = train_test_split(X, y, test_size=0.2, random_state=42)\n",
    "\n",
    "nb_model = GaussianNB()\n",
    "\n",
    "nb_model.fit(Tr_X, Tr_y)\n",
    "\n",
    "predictions = nb_model.predict(Te_X)\n",
    "\n",
    "accuracy = accuracy_score(Te_y, predictions)\n",
    "print(f\"Accuracy: {accuracy}\")"
   ]
  },
  {
   "cell_type": "code",
   "execution_count": 5,
   "id": "08ab4b5f",
   "metadata": {},
   "outputs": [
    {
     "name": "stdout",
     "output_type": "stream",
     "text": [
      "Accuracy: 0.060476190476190475\n"
     ]
    }
   ],
   "source": [
    "#A5\n",
    "import pandas as pd\n",
    "from sklearn.model_selection import train_test_split\n",
    "from sklearn.naive_bayes import GaussianNB\n",
    "from sklearn.metrics import accuracy_score\n",
    "\n",
    "file_path = \"the_final_no_changes_data.csv\"\n",
    "df = pd.read_csv(file_path)\n",
    "\n",
    "X = df.drop(\"category\", axis=1)\n",
    "y = df[\"category\"]\n",
    "\n",
    "Tr_X, Te_X, Tr_y, Te_y = train_test_split(X, y, test_size=0.2, random_state=42)\n",
    "\n",
    "nb_model = GaussianNB()\n",
    "\n",
    "nb_model.fit(Tr_X, Tr_y)\n",
    "\n",
    "predictions = nb_model.predict(Te_X)\n",
    "\n",
    "accuracy = accuracy_score(Te_y, predictions)\n",
    "print(f\"Accuracy: {accuracy}\")"
   ]
  },
  {
   "cell_type": "code",
   "execution_count": null,
   "id": "47b6f765",
   "metadata": {},
   "outputs": [],
   "source": []
  }
 ],
 "metadata": {
  "kernelspec": {
   "display_name": "Python 3 (ipykernel)",
   "language": "python",
   "name": "python3"
  },
  "language_info": {
   "codemirror_mode": {
    "name": "ipython",
    "version": 3
   },
   "file_extension": ".py",
   "mimetype": "text/x-python",
   "name": "python",
   "nbconvert_exporter": "python",
   "pygments_lexer": "ipython3",
   "version": "3.11.4"
  }
 },
 "nbformat": 4,
 "nbformat_minor": 5
}
